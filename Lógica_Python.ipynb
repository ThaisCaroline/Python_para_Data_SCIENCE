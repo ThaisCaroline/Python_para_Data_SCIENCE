{
  "nbformat": 4,
  "nbformat_minor": 0,
  "metadata": {
    "colab": {
      "provenance": []
    },
    "kernelspec": {
      "name": "python3",
      "display_name": "Python 3"
    },
    "language_info": {
      "name": "python"
    }
  },
  "cells": [
    {
      "cell_type": "markdown",
      "source": [
        "## Lógica de Programação Python"
      ],
      "metadata": {
        "id": "IlgpBfoikvtL"
      }
    },
    {
      "cell_type": "code",
      "execution_count": null,
      "metadata": {
        "colab": {
          "base_uri": "https://localhost:8080/",
          "height": 36
        },
        "id": "5e-hP4llcNeh",
        "outputId": "0b2c6608-75ee-48b2-9a9e-5847335fff5d"
      },
      "outputs": [
        {
          "output_type": "execute_result",
          "data": {
            "text/plain": [
              "'Thais'"
            ],
            "application/vnd.google.colaboratory.intrinsic+json": {
              "type": "string"
            }
          },
          "metadata": {},
          "execution_count": 1
        }
      ],
      "source": [
        "'Thais'"
      ]
    },
    {
      "cell_type": "code",
      "source": [
        "nome = 'This'"
      ],
      "metadata": {
        "id": "PtGQIahSkynn"
      },
      "execution_count": null,
      "outputs": []
    },
    {
      "cell_type": "code",
      "source": [
        "nome"
      ],
      "metadata": {
        "colab": {
          "base_uri": "https://localhost:8080/",
          "height": 36
        },
        "id": "xO9y9h9_k9Kb",
        "outputId": "c95f2921-df1e-4447-c6d0-943b54f9fa6d"
      },
      "execution_count": null,
      "outputs": [
        {
          "output_type": "execute_result",
          "data": {
            "text/plain": [
              "'This'"
            ],
            "application/vnd.google.colaboratory.intrinsic+json": {
              "type": "string"
            }
          },
          "metadata": {},
          "execution_count": 3
        }
      ]
    },
    {
      "cell_type": "code",
      "source": [
        "idade = 26"
      ],
      "metadata": {
        "id": "fxq8D-3Tk_jO"
      },
      "execution_count": null,
      "outputs": []
    },
    {
      "cell_type": "code",
      "source": [
        "idade"
      ],
      "metadata": {
        "id": "xA8QYBSPlD1l",
        "outputId": "fe31c0a3-42e8-4cd3-d1df-f4c8e1d8935d",
        "colab": {
          "base_uri": "https://localhost:8080/"
        }
      },
      "execution_count": null,
      "outputs": [
        {
          "output_type": "execute_result",
          "data": {
            "text/plain": [
              "26"
            ]
          },
          "metadata": {},
          "execution_count": 5
        }
      ]
    },
    {
      "cell_type": "code",
      "source": [
        "print(f'O nome é {nome} e sua idade é {idade} anos')"
      ],
      "metadata": {
        "id": "7sUJ5b6ylE_C",
        "colab": {
          "base_uri": "https://localhost:8080/"
        },
        "outputId": "4c5eb564-6fb4-4ee6-dc1c-c287291052fa"
      },
      "execution_count": null,
      "outputs": [
        {
          "output_type": "stream",
          "name": "stdout",
          "text": [
            "O nome é This e sua idade é 26 anos\n"
          ]
        }
      ]
    },
    {
      "cell_type": "markdown",
      "source": [
        "# Criando minha primeira função"
      ],
      "metadata": {
        "id": "Ql3eAyMkv2Lt"
      }
    },
    {
      "cell_type": "code",
      "source": [
        "def saudacao ():\n",
        "  nome2=input('What is your name? ')\n",
        "  print(f'Olá {nome2}')"
      ],
      "metadata": {
        "id": "V7BVY3dDvYGK"
      },
      "execution_count": null,
      "outputs": []
    },
    {
      "cell_type": "code",
      "source": [
        "saudacao ()"
      ],
      "metadata": {
        "colab": {
          "base_uri": "https://localhost:8080/"
        },
        "id": "G8XMgHgcwrCr",
        "outputId": "0be60a52-9e4f-468a-beaf-b987058a0f56"
      },
      "execution_count": null,
      "outputs": [
        {
          "output_type": "stream",
          "name": "stdout",
          "text": [
            "What is your name? tata\n",
            "Olá tata\n"
          ]
        }
      ]
    },
    {
      "cell_type": "markdown",
      "source": [
        "## Função com Parâmetros"
      ],
      "metadata": {
        "id": "Wnl5dy74zdJA"
      }
    },
    {
      "cell_type": "code",
      "source": [
        "jome='Banana'"
      ],
      "metadata": {
        "id": "_B5lqP3By5Mf"
      },
      "execution_count": null,
      "outputs": []
    },
    {
      "cell_type": "code",
      "source": [
        "def saudacao_with_parameter(nome_da_pessoa):\n",
        "  print(f'Olá {nome_da_pessoa}')"
      ],
      "metadata": {
        "id": "FmXeOvEqzq1Z"
      },
      "execution_count": null,
      "outputs": []
    },
    {
      "cell_type": "code",
      "source": [
        "saudacao_with_parameter(jome)"
      ],
      "metadata": {
        "colab": {
          "base_uri": "https://localhost:8080/"
        },
        "id": "Uem7hy7u0ORH",
        "outputId": "dcda0cda-cd3c-41bd-91ea-035d0175dece"
      },
      "execution_count": null,
      "outputs": [
        {
          "output_type": "stream",
          "name": "stdout",
          "text": [
            "Olá Banana\n"
          ]
        }
      ]
    },
    {
      "cell_type": "markdown",
      "source": [
        "## Condicionais"
      ],
      "metadata": {
        "id": "GMKty7L002Y6"
      }
    },
    {
      "cell_type": "code",
      "source": [
        "idade=15\n",
        "\n",
        "def verifica_se_pode_dirigir(idade):\n",
        "  if idade>=18:\n",
        "    print('Tem permision para dirigir')\n",
        "  else:\n",
        "    print('Not permisiones pra dirigir') "
      ],
      "metadata": {
        "id": "5okglhP107B6"
      },
      "execution_count": null,
      "outputs": []
    },
    {
      "cell_type": "code",
      "source": [
        "verifica_se_pode_dirigir(idade)"
      ],
      "metadata": {
        "colab": {
          "base_uri": "https://localhost:8080/"
        },
        "id": "NwaAHq402OSx",
        "outputId": "f89d798c-5b9e-4684-bcf0-9696eb8e5a63"
      },
      "execution_count": null,
      "outputs": [
        {
          "output_type": "stream",
          "name": "stdout",
          "text": [
            "Not permisiones pra dirigir\n"
          ]
        }
      ]
    },
    {
      "cell_type": "markdown",
      "source": [
        "## Convetendo Texto para Int"
      ],
      "metadata": {
        "id": "uJpEZP4USh7m"
      }
    },
    {
      "cell_type": "code",
      "source": [
        "def verifica_se_pode_dirigir_sem_parametron():\n",
        "   idade= input('Qual sua idade? ')\n",
        "   idade=int(idade)\n",
        "   if idade>=18:\n",
        "     print('Tem permision para dirigir')\n",
        "   else:\n",
        "     print('Not permisiones pra dirigir')  "
      ],
      "metadata": {
        "id": "ZeMJFC-i2W8n"
      },
      "execution_count": null,
      "outputs": []
    },
    {
      "cell_type": "code",
      "source": [
        "verifica_se_pode_dirigir_sem_parametron()"
      ],
      "metadata": {
        "colab": {
          "base_uri": "https://localhost:8080/"
        },
        "id": "UsdPq8KqReOP",
        "outputId": "d7b13b49-a384-4623-d411-74321e889d29"
      },
      "execution_count": null,
      "outputs": [
        {
          "output_type": "stream",
          "name": "stdout",
          "text": [
            "Qual sua idade? 22\n",
            "Tem permision para dirigir\n"
          ]
        }
      ]
    },
    {
      "cell_type": "markdown",
      "source": [
        "## Criando uma lista"
      ],
      "metadata": {
        "id": "ioiyT3lBg-xZ"
      }
    },
    {
      "cell_type": "code",
      "source": [
        "lista_idades=[12,21,55,69]\n",
        "#Indices       0  1  2  3 ...\n",
        "#Indices       0 -3 -2 -1 ...\n",
        "type(lista_idades)"
      ],
      "metadata": {
        "colab": {
          "base_uri": "https://localhost:8080/"
        },
        "id": "FXiAglyehDLL",
        "outputId": "1d50413b-ab64-482c-ffdb-c932c7231f12"
      },
      "execution_count": null,
      "outputs": [
        {
          "output_type": "execute_result",
          "data": {
            "text/plain": [
              "list"
            ]
          },
          "metadata": {},
          "execution_count": 22
        }
      ]
    },
    {
      "cell_type": "code",
      "source": [
        "lista_idades[2]"
      ],
      "metadata": {
        "colab": {
          "base_uri": "https://localhost:8080/"
        },
        "id": "4YcfZBEHkeA3",
        "outputId": "a22f769e-0dad-420e-dc55-c6e479bdf2e3"
      },
      "execution_count": null,
      "outputs": [
        {
          "output_type": "execute_result",
          "data": {
            "text/plain": [
              "55"
            ]
          },
          "metadata": {},
          "execution_count": 23
        }
      ]
    },
    {
      "cell_type": "code",
      "source": [
        "lista_idades[0:3] #para imprimiri os valores dentro do intervalo de 0 a 3"
      ],
      "metadata": {
        "colab": {
          "base_uri": "https://localhost:8080/"
        },
        "id": "lDaYvojqknYI",
        "outputId": "d9dc0221-7cc3-4965-ea29-8df0722efea6"
      },
      "execution_count": null,
      "outputs": [
        {
          "output_type": "execute_result",
          "data": {
            "text/plain": [
              "[12, 21, 55]"
            ]
          },
          "metadata": {},
          "execution_count": 24
        }
      ]
    },
    {
      "cell_type": "code",
      "source": [
        "lista_idades[1:]#capturando todos os valores depois do indice especificado"
      ],
      "metadata": {
        "colab": {
          "base_uri": "https://localhost:8080/"
        },
        "id": "OXpdtYcAk9IJ",
        "outputId": "68c4264f-2b2b-4f94-b43e-3aa09b2dbf23"
      },
      "execution_count": null,
      "outputs": [
        {
          "output_type": "execute_result",
          "data": {
            "text/plain": [
              "[21, 55, 69]"
            ]
          },
          "metadata": {},
          "execution_count": 26
        }
      ]
    },
    {
      "cell_type": "code",
      "source": [
        "lista_idades[-1]#capturando o ultimo elemento de um vetor"
      ],
      "metadata": {
        "colab": {
          "base_uri": "https://localhost:8080/"
        },
        "id": "6DyHoBIoltxI",
        "outputId": "e34fa568-be93-40be-f7a5-409e0813a2fd"
      },
      "execution_count": null,
      "outputs": [
        {
          "output_type": "execute_result",
          "data": {
            "text/plain": [
              "69"
            ]
          },
          "metadata": {},
          "execution_count": 27
        }
      ]
    },
    {
      "cell_type": "markdown",
      "source": [
        "# Laços e Loops"
      ],
      "metadata": {
        "id": "DiCnZnnHnpng"
      }
    },
    {
      "cell_type": "code",
      "source": [
        "idades=[18,22,15,50]\n",
        "idades"
      ],
      "metadata": {
        "colab": {
          "base_uri": "https://localhost:8080/"
        },
        "id": "_Lk_P5K88-nO",
        "outputId": "915e8cce-9fe4-45be-e4e9-d1ea74eb4904"
      },
      "execution_count": null,
      "outputs": [
        {
          "output_type": "execute_result",
          "data": {
            "text/plain": [
              "[18, 22, 15, 50]"
            ]
          },
          "metadata": {},
          "execution_count": 1
        }
      ]
    },
    {
      "cell_type": "code",
      "source": [
        "def verifica_se_pode_dirigir(idade):\n",
        "  if idade>=18:\n",
        "    print(f'{idade} anos de idade, TEM permision para dirigir')\n",
        "  else:\n",
        "    print(f'{idade} anos de idade, Not permisiones pra dirigir') \n",
        "#para cada IDADE na nossa lista:\n",
        "for idade in idades:\n",
        "     verifica_se_pode_dirigir(idade) "
      ],
      "metadata": {
        "id": "nyWbwABYmC-I",
        "colab": {
          "base_uri": "https://localhost:8080/"
        },
        "outputId": "33a23990-b8be-4e9d-af74-cdfae6757c9f"
      },
      "execution_count": null,
      "outputs": [
        {
          "output_type": "stream",
          "name": "stdout",
          "text": [
            "18 anos de idade, TEM permision para dirigir\n",
            "22 anos de idade, TEM permision para dirigir\n",
            "15 anos de idade, Not permisiones pra dirigir\n",
            "50 anos de idade, TEM permision para dirigir\n"
          ]
        }
      ]
    },
    {
      "cell_type": "markdown",
      "source": [
        "Outra forma de fazer:"
      ],
      "metadata": {
        "id": "U3vdv3Zc-hKy"
      }
    },
    {
      "cell_type": "code",
      "source": [
        "def verifica_se_pode_dirigir(idades):\n",
        "  for idade in idades:\n",
        "   if idade>=18:\n",
        "    print(f'{idade} anos de idade, TEM permision para dirigir')\n",
        "   else:\n",
        "    print(f'{idade} anos de idade, Not permisiones pra dirigir') \n",
        "\n",
        "verifica_se_pode_dirigir(idades)"
      ],
      "metadata": {
        "colab": {
          "base_uri": "https://localhost:8080/"
        },
        "id": "0OysZgtu93u_",
        "outputId": "21f66037-17cd-41a5-ef03-2d5202743122"
      },
      "execution_count": null,
      "outputs": [
        {
          "output_type": "stream",
          "name": "stdout",
          "text": [
            "18 anos de idade, TEM permision para dirigir\n",
            "22 anos de idade, TEM permision para dirigir\n",
            "15 anos de idade, Not permisiones pra dirigir\n",
            "50 anos de idade, TEM permision para dirigir\n"
          ]
        }
      ]
    },
    {
      "cell_type": "markdown",
      "source": [
        "# Tipo Boleano"
      ],
      "metadata": {
        "id": "PWbdXpuR_v1u"
      }
    },
    {
      "cell_type": "code",
      "source": [
        "permissoes=[]\n",
        "idades=[20,14,40]\n",
        "\n",
        "def verifica_se_pode_dirigir(idades, permissoes):\n",
        "  for idade in idades:\n",
        "    if idade>=18:\n",
        "      permissoes.append(True)\n",
        "    else:\n",
        "      permissoes.append(False)\n",
        "\n",
        "verifica_se_pode_dirigir(idades, permissoes)  "
      ],
      "metadata": {
        "id": "MwU-buIk_dVZ"
      },
      "execution_count": null,
      "outputs": []
    },
    {
      "cell_type": "code",
      "source": [
        "permissoes"
      ],
      "metadata": {
        "id": "8o5GzGe3Bbbj",
        "outputId": "9ad37f0e-a529-47f8-f43c-7b6662031990",
        "colab": {
          "base_uri": "https://localhost:8080/"
        }
      },
      "execution_count": null,
      "outputs": [
        {
          "output_type": "execute_result",
          "data": {
            "text/plain": [
              "[True, False, True]"
            ]
          },
          "metadata": {},
          "execution_count": 5
        }
      ]
    },
    {
      "cell_type": "markdown",
      "source": [
        "## Tipos em uma lista  "
      ],
      "metadata": {
        "id": "Kfi84Gt8xZlu"
      }
    },
    {
      "cell_type": "code",
      "source": [
        "lista = ['Thais', 26, True]\n",
        "\n",
        "for i in lista:\n",
        "  print(f'O elemento {i} é do tipo', type(i))"
      ],
      "metadata": {
        "id": "auuXk_TeBdc_",
        "colab": {
          "base_uri": "https://localhost:8080/",
          "height": 0
        },
        "outputId": "01cf7231-f3df-46bd-f47d-888951518fa5"
      },
      "execution_count": 4,
      "outputs": [
        {
          "output_type": "stream",
          "name": "stdout",
          "text": [
            "O elemento Thais é do tipo <class 'str'>\n",
            "O elemento 26 é do tipo <class 'int'>\n",
            "O elemento True é do tipo <class 'bool'>\n"
          ]
        }
      ]
    },
    {
      "cell_type": "markdown",
      "source": [
        "# Imports em python"
      ],
      "metadata": {
        "id": "G_tbsqyyzukU"
      }
    },
    {
      "cell_type": "code",
      "source": [
        "from random import randrange#, seed\n",
        "\n",
        "#seed(11)\n",
        "notas_matematica=[]\n",
        "\n",
        "for notar in range(8):\n",
        "  notas_matematica.append(randrange(0,11))\n",
        "\n",
        "notas_matematica"
      ],
      "metadata": {
        "colab": {
          "base_uri": "https://localhost:8080/",
          "height": 0
        },
        "id": "aReUdhxIzt_d",
        "outputId": "50c73c88-1eb1-4383-9b75-e74bd5657096"
      },
      "execution_count": 2,
      "outputs": [
        {
          "output_type": "execute_result",
          "data": {
            "text/plain": [
              "[7, 7, 2, 6, 2, 8, 8, 8]"
            ]
          },
          "metadata": {},
          "execution_count": 2
        }
      ]
    },
    {
      "cell_type": "code",
      "source": [
        "len(notas_matematica)"
      ],
      "metadata": {
        "colab": {
          "base_uri": "https://localhost:8080/",
          "height": 0
        },
        "id": "_NqOCUPUFaM4",
        "outputId": "3888f79b-bed9-484e-96ef-cbf08d7e1bc9"
      },
      "execution_count": 17,
      "outputs": [
        {
          "output_type": "execute_result",
          "data": {
            "text/plain": [
              "10"
            ]
          },
          "metadata": {},
          "execution_count": 17
        }
      ]
    },
    {
      "cell_type": "markdown",
      "source": [
        "# Matplotlib"
      ],
      "metadata": {
        "id": "aNJAxQc5RZ0L"
      }
    },
    {
      "cell_type": "code",
      "source": [
        "import matplotlib.pyplot as plt\n",
        "\n",
        "x=list(range(1,9))\n",
        "y=notas_matematica\n",
        "plt.plot(x,y, marker='o')\n",
        "plt.title('Notas de Matemática')\n",
        "plt.xlabel('Provas')\n",
        "plt.ylabel('Notas')\n",
        "plt.show()"
      ],
      "metadata": {
        "colab": {
          "base_uri": "https://localhost:8080/",
          "height": 295
        },
        "id": "5zm1I6WTG9yG",
        "outputId": "c65bfa98-73ec-49a3-a22d-e86bbb4e4071"
      },
      "execution_count": 10,
      "outputs": [
        {
          "output_type": "display_data",
          "data": {
            "text/plain": [
              "<Figure size 432x288 with 1 Axes>"
            ],
            "image/png": "[encoded data removed]"
          },
          "metadata": {
            "needs_background": "light"
          }
        }
      ]
    }
  ]
}